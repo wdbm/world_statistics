{
 "cells": [
  {
   "cell_type": "markdown",
   "metadata": {
    "deletable": true,
    "editable": true
   },
   "source": [
    "# hierarchically clustered correlations between country views on homosexuality and LGBTI and country happiness metrics, country location and country murder rates\n",
    "\n",
    "# references\n",
    "\n",
    "- [The ILGA-RIWI 2016 Global Attitudes Survey on LGBTI People in Partnership with LOGO](http://ilga.org/downloads/07_THE_ILGA_RIWI_2016_GLOBAL_ATTITUDES_SURVEY_ON_LGBTI_PEOPLE.pdf)\n",
    "- [The Global Divide on Homosexuality, Pew Research, 2014](http://www.pewglobal.org/files/2014/05/Pew-Global-Attitudes-Homosexuality-Report-REVISED-MAY-27-2014.pdf)\n",
    "- [World Happiness Report 2017 Wikipedia table](https://en.wikipedia.org/wiki/World_Happiness_Report#2017_report)\n",
    "- [country coordinates](https://developers.google.com/public-data/docs/canonical/countries_csv)\n",
    "- [country murder rates Wikipedia table](https://en.wikipedia.org/wiki/List_of_countries_by_intentional_homicide_rate#By_country)\n",
    "\n",
    "# data"
   ]
  },
  {
   "cell_type": "code",
   "execution_count": 18,
   "metadata": {
    "collapsed": false,
    "deletable": true,
    "editable": true
   },
   "outputs": [],
   "source": [
    "import pandas as pd\n",
    "\n",
    "ELGARIWI2016        = pd.read_csv(\"ILGA-RIWI_2016.csv\", delimiter = \",\")\n",
    "PGAHR2014           = pd.read_csv(\"Pew_Global_Attitudes_Homosexuality_Report_2014.csv\", delimiter = \",\")\n",
    "WHR2017             = pd.read_csv(\"World_Happiness_Report_2017.csv\", delimiter = \",\")\n",
    "country_coordinates = pd.read_csv(\"country_coordinates.csv\", delimiter = \",\")\n",
    "UNODC2014           = pd.read_csv(\"UNODC_murder_rates_2014.csv\", delimiter = \",\")\n",
    "country_employment  = pd.read_csv(\"country_employment.csv\", delimiter = \",\")"
   ]
  },
  {
   "cell_type": "code",
   "execution_count": 2,
   "metadata": {
    "collapsed": true,
    "deletable": true,
    "editable": true
   },
   "outputs": [],
   "source": [
    "import seaborn as sns\n",
    "import matplotlib.pyplot as plt\n",
    "%matplotlib inline\n",
    "sns.set(context = \"paper\", font = \"monospace\")"
   ]
  },
  {
   "cell_type": "markdown",
   "metadata": {},
   "source": [
    "# correlations with country happiness metrics"
   ]
  },
  {
   "cell_type": "code",
   "execution_count": 3,
   "metadata": {
    "collapsed": false,
    "deletable": true,
    "editable": true
   },
   "outputs": [
    {
     "data": {
      "text/html": [
       "<div>\n",
       "<table border=\"1\" class=\"dataframe\">\n",
       "  <thead>\n",
       "    <tr style=\"text-align: right;\">\n",
       "      <th></th>\n",
       "      <th>country</th>\n",
       "      <th>agree being LGBTI should be a crime</th>\n",
       "      <th>disagree being LGBTI should be a crime</th>\n",
       "    </tr>\n",
       "  </thead>\n",
       "  <tbody>\n",
       "    <tr>\n",
       "      <th>0</th>\n",
       "      <td>Algeria</td>\n",
       "      <td>43</td>\n",
       "      <td>35</td>\n",
       "    </tr>\n",
       "    <tr>\n",
       "      <th>1</th>\n",
       "      <td>Argentina</td>\n",
       "      <td>13</td>\n",
       "      <td>67</td>\n",
       "    </tr>\n",
       "    <tr>\n",
       "      <th>2</th>\n",
       "      <td>Australia</td>\n",
       "      <td>15</td>\n",
       "      <td>66</td>\n",
       "    </tr>\n",
       "    <tr>\n",
       "      <th>3</th>\n",
       "      <td>Bolivia</td>\n",
       "      <td>18</td>\n",
       "      <td>54</td>\n",
       "    </tr>\n",
       "    <tr>\n",
       "      <th>4</th>\n",
       "      <td>Brazil</td>\n",
       "      <td>11</td>\n",
       "      <td>68</td>\n",
       "    </tr>\n",
       "  </tbody>\n",
       "</table>\n",
       "</div>"
      ],
      "text/plain": [
       "     country  agree being LGBTI should be a crime  \\\n",
       "0    Algeria                                   43   \n",
       "1  Argentina                                   13   \n",
       "2  Australia                                   15   \n",
       "3    Bolivia                                   18   \n",
       "4     Brazil                                   11   \n",
       "\n",
       "   disagree being LGBTI should be a crime  \n",
       "0                                      35  \n",
       "1                                      67  \n",
       "2                                      66  \n",
       "3                                      54  \n",
       "4                                      68  "
      ]
     },
     "execution_count": 3,
     "metadata": {},
     "output_type": "execute_result"
    }
   ],
   "source": [
    "ELGARIWI2016.head()"
   ]
  },
  {
   "cell_type": "code",
   "execution_count": 4,
   "metadata": {
    "collapsed": false,
    "deletable": true,
    "editable": true
   },
   "outputs": [
    {
     "data": {
      "text/html": [
       "<div>\n",
       "<table border=\"1\" class=\"dataframe\">\n",
       "  <thead>\n",
       "    <tr style=\"text-align: right;\">\n",
       "      <th></th>\n",
       "      <th>country</th>\n",
       "      <th>homosexuality should be accepted by society</th>\n",
       "      <th>homosexuality should not be accepted by society</th>\n",
       "    </tr>\n",
       "  </thead>\n",
       "  <tbody>\n",
       "    <tr>\n",
       "      <th>0</th>\n",
       "      <td>Argentina</td>\n",
       "      <td>74</td>\n",
       "      <td>21</td>\n",
       "    </tr>\n",
       "    <tr>\n",
       "      <th>1</th>\n",
       "      <td>Australia</td>\n",
       "      <td>79</td>\n",
       "      <td>18</td>\n",
       "    </tr>\n",
       "    <tr>\n",
       "      <th>2</th>\n",
       "      <td>Bolivia</td>\n",
       "      <td>43</td>\n",
       "      <td>49</td>\n",
       "    </tr>\n",
       "    <tr>\n",
       "      <th>3</th>\n",
       "      <td>Brazil</td>\n",
       "      <td>60</td>\n",
       "      <td>36</td>\n",
       "    </tr>\n",
       "    <tr>\n",
       "      <th>4</th>\n",
       "      <td>Britain</td>\n",
       "      <td>76</td>\n",
       "      <td>18</td>\n",
       "    </tr>\n",
       "  </tbody>\n",
       "</table>\n",
       "</div>"
      ],
      "text/plain": [
       "     country  homosexuality should be accepted by society  \\\n",
       "0  Argentina                                           74   \n",
       "1  Australia                                           79   \n",
       "2    Bolivia                                           43   \n",
       "3     Brazil                                           60   \n",
       "4    Britain                                           76   \n",
       "\n",
       "   homosexuality should not be accepted by society  \n",
       "0                                               21  \n",
       "1                                               18  \n",
       "2                                               49  \n",
       "3                                               36  \n",
       "4                                               18  "
      ]
     },
     "execution_count": 4,
     "metadata": {},
     "output_type": "execute_result"
    }
   ],
   "source": [
    "PGAHR2014.head()"
   ]
  },
  {
   "cell_type": "code",
   "execution_count": 5,
   "metadata": {
    "collapsed": true,
    "deletable": true,
    "editable": true
   },
   "outputs": [],
   "source": [
    "ELGARIWI2016_PGAHR2014 = pd.merge(ELGARIWI2016, PGAHR2014, on = \"country\", how = \"outer\")"
   ]
  },
  {
   "cell_type": "code",
   "execution_count": 6,
   "metadata": {
    "collapsed": false
   },
   "outputs": [
    {
     "data": {
      "text/html": [
       "<div>\n",
       "<table border=\"1\" class=\"dataframe\">\n",
       "  <thead>\n",
       "    <tr style=\"text-align: right;\">\n",
       "      <th></th>\n",
       "      <th>country</th>\n",
       "      <th>agree being LGBTI should be a crime</th>\n",
       "      <th>disagree being LGBTI should be a crime</th>\n",
       "      <th>homosexuality should be accepted by society</th>\n",
       "      <th>homosexuality should not be accepted by society</th>\n",
       "    </tr>\n",
       "  </thead>\n",
       "  <tbody>\n",
       "    <tr>\n",
       "      <th>0</th>\n",
       "      <td>Algeria</td>\n",
       "      <td>43.0</td>\n",
       "      <td>35.0</td>\n",
       "      <td>NaN</td>\n",
       "      <td>NaN</td>\n",
       "    </tr>\n",
       "    <tr>\n",
       "      <th>1</th>\n",
       "      <td>Argentina</td>\n",
       "      <td>13.0</td>\n",
       "      <td>67.0</td>\n",
       "      <td>74.0</td>\n",
       "      <td>21.0</td>\n",
       "    </tr>\n",
       "    <tr>\n",
       "      <th>2</th>\n",
       "      <td>Australia</td>\n",
       "      <td>15.0</td>\n",
       "      <td>66.0</td>\n",
       "      <td>79.0</td>\n",
       "      <td>18.0</td>\n",
       "    </tr>\n",
       "    <tr>\n",
       "      <th>3</th>\n",
       "      <td>Bolivia</td>\n",
       "      <td>18.0</td>\n",
       "      <td>54.0</td>\n",
       "      <td>43.0</td>\n",
       "      <td>49.0</td>\n",
       "    </tr>\n",
       "    <tr>\n",
       "      <th>4</th>\n",
       "      <td>Brazil</td>\n",
       "      <td>11.0</td>\n",
       "      <td>68.0</td>\n",
       "      <td>60.0</td>\n",
       "      <td>36.0</td>\n",
       "    </tr>\n",
       "  </tbody>\n",
       "</table>\n",
       "</div>"
      ],
      "text/plain": [
       "     country  agree being LGBTI should be a crime  \\\n",
       "0    Algeria                                 43.0   \n",
       "1  Argentina                                 13.0   \n",
       "2  Australia                                 15.0   \n",
       "3    Bolivia                                 18.0   \n",
       "4     Brazil                                 11.0   \n",
       "\n",
       "   disagree being LGBTI should be a crime  \\\n",
       "0                                    35.0   \n",
       "1                                    67.0   \n",
       "2                                    66.0   \n",
       "3                                    54.0   \n",
       "4                                    68.0   \n",
       "\n",
       "   homosexuality should be accepted by society  \\\n",
       "0                                          NaN   \n",
       "1                                         74.0   \n",
       "2                                         79.0   \n",
       "3                                         43.0   \n",
       "4                                         60.0   \n",
       "\n",
       "   homosexuality should not be accepted by society  \n",
       "0                                              NaN  \n",
       "1                                             21.0  \n",
       "2                                             18.0  \n",
       "3                                             49.0  \n",
       "4                                             36.0  "
      ]
     },
     "execution_count": 6,
     "metadata": {},
     "output_type": "execute_result"
    }
   ],
   "source": [
    "ELGARIWI2016_PGAHR2014.head()"
   ]
  },
  {
   "cell_type": "code",
   "execution_count": 7,
   "metadata": {
    "collapsed": false,
    "deletable": true,
    "editable": true
   },
   "outputs": [
    {
     "data": {
      "text/html": [
       "<div>\n",
       "<table border=\"1\" class=\"dataframe\">\n",
       "  <thead>\n",
       "    <tr style=\"text-align: right;\">\n",
       "      <th></th>\n",
       "      <th>agree being LGBTI should be a crime</th>\n",
       "      <th>disagree being LGBTI should be a crime</th>\n",
       "      <th>homosexuality should be accepted by society</th>\n",
       "      <th>homosexuality should not be accepted by society</th>\n",
       "    </tr>\n",
       "  </thead>\n",
       "  <tbody>\n",
       "    <tr>\n",
       "      <th>agree being LGBTI should be a crime</th>\n",
       "      <td>1.000000</td>\n",
       "      <td>-0.950706</td>\n",
       "      <td>-0.873782</td>\n",
       "      <td>0.917213</td>\n",
       "    </tr>\n",
       "    <tr>\n",
       "      <th>disagree being LGBTI should be a crime</th>\n",
       "      <td>-0.950706</td>\n",
       "      <td>1.000000</td>\n",
       "      <td>0.890505</td>\n",
       "      <td>-0.930326</td>\n",
       "    </tr>\n",
       "    <tr>\n",
       "      <th>homosexuality should be accepted by society</th>\n",
       "      <td>-0.873782</td>\n",
       "      <td>0.890505</td>\n",
       "      <td>1.000000</td>\n",
       "      <td>-0.989094</td>\n",
       "    </tr>\n",
       "    <tr>\n",
       "      <th>homosexuality should not be accepted by society</th>\n",
       "      <td>0.917213</td>\n",
       "      <td>-0.930326</td>\n",
       "      <td>-0.989094</td>\n",
       "      <td>1.000000</td>\n",
       "    </tr>\n",
       "  </tbody>\n",
       "</table>\n",
       "</div>"
      ],
      "text/plain": [
       "                                                 agree being LGBTI should be a crime  \\\n",
       "agree being LGBTI should be a crime                                         1.000000   \n",
       "disagree being LGBTI should be a crime                                     -0.950706   \n",
       "homosexuality should be accepted by society                                -0.873782   \n",
       "homosexuality should not be accepted by society                             0.917213   \n",
       "\n",
       "                                                 disagree being LGBTI should be a crime  \\\n",
       "agree being LGBTI should be a crime                                           -0.950706   \n",
       "disagree being LGBTI should be a crime                                         1.000000   \n",
       "homosexuality should be accepted by society                                    0.890505   \n",
       "homosexuality should not be accepted by society                               -0.930326   \n",
       "\n",
       "                                                 homosexuality should be accepted by society  \\\n",
       "agree being LGBTI should be a crime                                                -0.873782   \n",
       "disagree being LGBTI should be a crime                                              0.890505   \n",
       "homosexuality should be accepted by society                                         1.000000   \n",
       "homosexuality should not be accepted by society                                    -0.989094   \n",
       "\n",
       "                                                 homosexuality should not be accepted by society  \n",
       "agree being LGBTI should be a crime                                                     0.917213  \n",
       "disagree being LGBTI should be a crime                                                 -0.930326  \n",
       "homosexuality should be accepted by society                                            -0.989094  \n",
       "homosexuality should not be accepted by society                                         1.000000  "
      ]
     },
     "execution_count": 7,
     "metadata": {},
     "output_type": "execute_result"
    }
   ],
   "source": [
    "ELGARIWI2016_PGAHR2014.corr()"
   ]
  },
  {
   "cell_type": "code",
   "execution_count": 8,
   "metadata": {
    "collapsed": false,
    "deletable": true,
    "editable": true
   },
   "outputs": [
    {
     "data": {
      "text/html": [
       "<div>\n",
       "<table border=\"1\" class=\"dataframe\">\n",
       "  <thead>\n",
       "    <tr style=\"text-align: right;\">\n",
       "      <th></th>\n",
       "      <th>Country</th>\n",
       "      <th>agree being LGBTI should be a crime</th>\n",
       "      <th>disagree being LGBTI should be a crime</th>\n",
       "      <th>homosexuality should be accepted by society</th>\n",
       "      <th>homosexuality should not be accepted by society</th>\n",
       "      <th>Overall Rank</th>\n",
       "      <th>Change in rank</th>\n",
       "      <th>Score</th>\n",
       "      <th>Change in score</th>\n",
       "      <th>GDP per capita</th>\n",
       "      <th>Social support</th>\n",
       "      <th>Healthy life expectancy</th>\n",
       "      <th>Freedom to make life choices</th>\n",
       "      <th>Generosity</th>\n",
       "      <th>Trust</th>\n",
       "      <th>Residual</th>\n",
       "    </tr>\n",
       "  </thead>\n",
       "  <tbody>\n",
       "    <tr>\n",
       "      <th>0</th>\n",
       "      <td>Algeria</td>\n",
       "      <td>43.0</td>\n",
       "      <td>35.0</td>\n",
       "      <td>NaN</td>\n",
       "      <td>NaN</td>\n",
       "      <td>53.0</td>\n",
       "      <td>-15.0</td>\n",
       "      <td>5.872</td>\n",
       "      <td>-0.483</td>\n",
       "      <td>1.092</td>\n",
       "      <td>1.146</td>\n",
       "      <td>0.618</td>\n",
       "      <td>0.233</td>\n",
       "      <td>0.069</td>\n",
       "      <td>0.146</td>\n",
       "      <td>2.568</td>\n",
       "    </tr>\n",
       "    <tr>\n",
       "      <th>1</th>\n",
       "      <td>Argentina</td>\n",
       "      <td>13.0</td>\n",
       "      <td>67.0</td>\n",
       "      <td>74.0</td>\n",
       "      <td>21.0</td>\n",
       "      <td>24.0</td>\n",
       "      <td>2.0</td>\n",
       "      <td>6.599</td>\n",
       "      <td>-0.051</td>\n",
       "      <td>1.185</td>\n",
       "      <td>1.440</td>\n",
       "      <td>0.695</td>\n",
       "      <td>0.495</td>\n",
       "      <td>0.109</td>\n",
       "      <td>0.060</td>\n",
       "      <td>2.614</td>\n",
       "    </tr>\n",
       "    <tr>\n",
       "      <th>2</th>\n",
       "      <td>Australia</td>\n",
       "      <td>15.0</td>\n",
       "      <td>66.0</td>\n",
       "      <td>79.0</td>\n",
       "      <td>18.0</td>\n",
       "      <td>9.0</td>\n",
       "      <td>0.0</td>\n",
       "      <td>7.284</td>\n",
       "      <td>-0.029</td>\n",
       "      <td>1.484</td>\n",
       "      <td>1.510</td>\n",
       "      <td>0.844</td>\n",
       "      <td>0.602</td>\n",
       "      <td>0.478</td>\n",
       "      <td>0.301</td>\n",
       "      <td>2.065</td>\n",
       "    </tr>\n",
       "    <tr>\n",
       "      <th>3</th>\n",
       "      <td>Bolivia</td>\n",
       "      <td>18.0</td>\n",
       "      <td>54.0</td>\n",
       "      <td>43.0</td>\n",
       "      <td>49.0</td>\n",
       "      <td>58.0</td>\n",
       "      <td>1.0</td>\n",
       "      <td>5.823</td>\n",
       "      <td>0.001</td>\n",
       "      <td>0.834</td>\n",
       "      <td>1.228</td>\n",
       "      <td>0.474</td>\n",
       "      <td>0.559</td>\n",
       "      <td>0.226</td>\n",
       "      <td>0.060</td>\n",
       "      <td>2.443</td>\n",
       "    </tr>\n",
       "    <tr>\n",
       "      <th>4</th>\n",
       "      <td>Brazil</td>\n",
       "      <td>11.0</td>\n",
       "      <td>68.0</td>\n",
       "      <td>60.0</td>\n",
       "      <td>36.0</td>\n",
       "      <td>22.0</td>\n",
       "      <td>-5.0</td>\n",
       "      <td>6.635</td>\n",
       "      <td>-0.317</td>\n",
       "      <td>1.107</td>\n",
       "      <td>1.431</td>\n",
       "      <td>0.617</td>\n",
       "      <td>0.437</td>\n",
       "      <td>0.162</td>\n",
       "      <td>0.111</td>\n",
       "      <td>2.769</td>\n",
       "    </tr>\n",
       "  </tbody>\n",
       "</table>\n",
       "</div>"
      ],
      "text/plain": [
       "     Country  agree being LGBTI should be a crime  \\\n",
       "0    Algeria                                 43.0   \n",
       "1  Argentina                                 13.0   \n",
       "2  Australia                                 15.0   \n",
       "3    Bolivia                                 18.0   \n",
       "4     Brazil                                 11.0   \n",
       "\n",
       "   disagree being LGBTI should be a crime  \\\n",
       "0                                    35.0   \n",
       "1                                    67.0   \n",
       "2                                    66.0   \n",
       "3                                    54.0   \n",
       "4                                    68.0   \n",
       "\n",
       "   homosexuality should be accepted by society  \\\n",
       "0                                          NaN   \n",
       "1                                         74.0   \n",
       "2                                         79.0   \n",
       "3                                         43.0   \n",
       "4                                         60.0   \n",
       "\n",
       "   homosexuality should not be accepted by society  Overall Rank  \\\n",
       "0                                              NaN          53.0   \n",
       "1                                             21.0          24.0   \n",
       "2                                             18.0           9.0   \n",
       "3                                             49.0          58.0   \n",
       "4                                             36.0          22.0   \n",
       "\n",
       "   Change in rank  Score  Change in score  GDP per capita  Social support  \\\n",
       "0           -15.0  5.872           -0.483           1.092           1.146   \n",
       "1             2.0  6.599           -0.051           1.185           1.440   \n",
       "2             0.0  7.284           -0.029           1.484           1.510   \n",
       "3             1.0  5.823            0.001           0.834           1.228   \n",
       "4            -5.0  6.635           -0.317           1.107           1.431   \n",
       "\n",
       "   Healthy life expectancy  Freedom to make life choices  Generosity  Trust  \\\n",
       "0                    0.618                         0.233       0.069  0.146   \n",
       "1                    0.695                         0.495       0.109  0.060   \n",
       "2                    0.844                         0.602       0.478  0.301   \n",
       "3                    0.474                         0.559       0.226  0.060   \n",
       "4                    0.617                         0.437       0.162  0.111   \n",
       "\n",
       "   Residual  \n",
       "0     2.568  \n",
       "1     2.614  \n",
       "2     2.065  \n",
       "3     2.443  \n",
       "4     2.769  "
      ]
     },
     "execution_count": 8,
     "metadata": {},
     "output_type": "execute_result"
    }
   ],
   "source": [
    "ELGARIWI2016_PGAHR2014.rename(columns = {\"country\": \"Country\"}, inplace = True)\n",
    "\n",
    "ELGARIWI2016_PGAHR2014_WHR2017 = pd.merge(ELGARIWI2016_PGAHR2014, WHR2017, on = \"Country\", how = \"outer\")\n",
    "\n",
    "# Exclude countries for which there is no ELGARIWI2016 and PGAHR2014 data.\n",
    "ELGARIWI2016_PGAHR2014_WHR2017 = ELGARIWI2016_PGAHR2014_WHR2017[~(ELGARIWI2016_PGAHR2014_WHR2017[\"agree being LGBTI should be a crime\"].isnull() & ELGARIWI2016_PGAHR2014_WHR2017[\"disagree being LGBTI should be a crime\"].isnull() & ELGARIWI2016_PGAHR2014_WHR2017[\"homosexuality should be accepted by society\"].isnull() & ELGARIWI2016_PGAHR2014_WHR2017[\"homosexuality should not be accepted by society\"].isnull())]\n",
    "\n",
    "ELGARIWI2016_PGAHR2014_WHR2017.head()"
   ]
  },
  {
   "cell_type": "code",
   "execution_count": 9,
   "metadata": {
    "collapsed": false,
    "deletable": true,
    "editable": true
   },
   "outputs": [
    {
     "name": "stderr",
     "output_type": "stream",
     "text": [
      "/usr/local/lib/python2.7/dist-packages/matplotlib/cbook.py:136: MatplotlibDeprecationWarning: The axisbg attribute was deprecated in version 2.0. Use facecolor instead.\n",
      "  warnings.warn(message, mplDeprecation, stacklevel=1)\n"
     ]
    },
    {
     "data": {
      "image/png": "[encoded data removed]",
      "text/plain": [
       "<matplotlib.figure.Figure at 0x7fa8db13b110>"
      ]
     },
     "metadata": {},
     "output_type": "display_data"
    }
   ],
   "source": [
    "plot = sns.clustermap(ELGARIWI2016_PGAHR2014_WHR2017.corr())\n",
    "_ = plt.setp(plot.ax_heatmap.get_yticklabels(), rotation = 0)"
   ]
  },
  {
   "cell_type": "markdown",
   "metadata": {},
   "source": [
    "# correlations with country coordinates"
   ]
  },
  {
   "cell_type": "code",
   "execution_count": 10,
   "metadata": {
    "collapsed": false,
    "deletable": true,
    "editable": true
   },
   "outputs": [
    {
     "data": {
      "text/html": [
       "<div>\n",
       "<table border=\"1\" class=\"dataframe\">\n",
       "  <thead>\n",
       "    <tr style=\"text-align: right;\">\n",
       "      <th></th>\n",
       "      <th>code</th>\n",
       "      <th>latitude</th>\n",
       "      <th>longitude</th>\n",
       "      <th>country</th>\n",
       "    </tr>\n",
       "  </thead>\n",
       "  <tbody>\n",
       "    <tr>\n",
       "      <th>0</th>\n",
       "      <td>AD</td>\n",
       "      <td>42.546245</td>\n",
       "      <td>1.601554</td>\n",
       "      <td>Andorra</td>\n",
       "    </tr>\n",
       "    <tr>\n",
       "      <th>1</th>\n",
       "      <td>AE</td>\n",
       "      <td>23.424076</td>\n",
       "      <td>53.847818</td>\n",
       "      <td>United Arab Emirates</td>\n",
       "    </tr>\n",
       "    <tr>\n",
       "      <th>2</th>\n",
       "      <td>AF</td>\n",
       "      <td>33.939110</td>\n",
       "      <td>67.709953</td>\n",
       "      <td>Afghanistan</td>\n",
       "    </tr>\n",
       "    <tr>\n",
       "      <th>3</th>\n",
       "      <td>AG</td>\n",
       "      <td>17.060816</td>\n",
       "      <td>-61.796428</td>\n",
       "      <td>Antigua and Barbuda</td>\n",
       "    </tr>\n",
       "    <tr>\n",
       "      <th>4</th>\n",
       "      <td>AI</td>\n",
       "      <td>18.220554</td>\n",
       "      <td>-63.068615</td>\n",
       "      <td>Anguilla</td>\n",
       "    </tr>\n",
       "  </tbody>\n",
       "</table>\n",
       "</div>"
      ],
      "text/plain": [
       "  code   latitude  longitude               country\n",
       "0   AD  42.546245   1.601554               Andorra\n",
       "1   AE  23.424076  53.847818  United Arab Emirates\n",
       "2   AF  33.939110  67.709953           Afghanistan\n",
       "3   AG  17.060816 -61.796428   Antigua and Barbuda\n",
       "4   AI  18.220554 -63.068615              Anguilla"
      ]
     },
     "execution_count": 10,
     "metadata": {},
     "output_type": "execute_result"
    }
   ],
   "source": [
    "country_coordinates.head()"
   ]
  },
  {
   "cell_type": "code",
   "execution_count": 11,
   "metadata": {
    "collapsed": false
   },
   "outputs": [
    {
     "data": {
      "text/html": [
       "<div>\n",
       "<table border=\"1\" class=\"dataframe\">\n",
       "  <thead>\n",
       "    <tr style=\"text-align: right;\">\n",
       "      <th></th>\n",
       "      <th>Country</th>\n",
       "      <th>agree being LGBTI should be a crime</th>\n",
       "      <th>disagree being LGBTI should be a crime</th>\n",
       "      <th>homosexuality should be accepted by society</th>\n",
       "      <th>homosexuality should not be accepted by society</th>\n",
       "    </tr>\n",
       "  </thead>\n",
       "  <tbody>\n",
       "    <tr>\n",
       "      <th>0</th>\n",
       "      <td>Algeria</td>\n",
       "      <td>43.0</td>\n",
       "      <td>35.0</td>\n",
       "      <td>NaN</td>\n",
       "      <td>NaN</td>\n",
       "    </tr>\n",
       "    <tr>\n",
       "      <th>1</th>\n",
       "      <td>Argentina</td>\n",
       "      <td>13.0</td>\n",
       "      <td>67.0</td>\n",
       "      <td>74.0</td>\n",
       "      <td>21.0</td>\n",
       "    </tr>\n",
       "    <tr>\n",
       "      <th>2</th>\n",
       "      <td>Australia</td>\n",
       "      <td>15.0</td>\n",
       "      <td>66.0</td>\n",
       "      <td>79.0</td>\n",
       "      <td>18.0</td>\n",
       "    </tr>\n",
       "    <tr>\n",
       "      <th>3</th>\n",
       "      <td>Bolivia</td>\n",
       "      <td>18.0</td>\n",
       "      <td>54.0</td>\n",
       "      <td>43.0</td>\n",
       "      <td>49.0</td>\n",
       "    </tr>\n",
       "    <tr>\n",
       "      <th>4</th>\n",
       "      <td>Brazil</td>\n",
       "      <td>11.0</td>\n",
       "      <td>68.0</td>\n",
       "      <td>60.0</td>\n",
       "      <td>36.0</td>\n",
       "    </tr>\n",
       "  </tbody>\n",
       "</table>\n",
       "</div>"
      ],
      "text/plain": [
       "     Country  agree being LGBTI should be a crime  \\\n",
       "0    Algeria                                 43.0   \n",
       "1  Argentina                                 13.0   \n",
       "2  Australia                                 15.0   \n",
       "3    Bolivia                                 18.0   \n",
       "4     Brazil                                 11.0   \n",
       "\n",
       "   disagree being LGBTI should be a crime  \\\n",
       "0                                    35.0   \n",
       "1                                    67.0   \n",
       "2                                    66.0   \n",
       "3                                    54.0   \n",
       "4                                    68.0   \n",
       "\n",
       "   homosexuality should be accepted by society  \\\n",
       "0                                          NaN   \n",
       "1                                         74.0   \n",
       "2                                         79.0   \n",
       "3                                         43.0   \n",
       "4                                         60.0   \n",
       "\n",
       "   homosexuality should not be accepted by society  \n",
       "0                                              NaN  \n",
       "1                                             21.0  \n",
       "2                                             18.0  \n",
       "3                                             49.0  \n",
       "4                                             36.0  "
      ]
     },
     "execution_count": 11,
     "metadata": {},
     "output_type": "execute_result"
    }
   ],
   "source": [
    "ELGARIWI2016_PGAHR2014.head()"
   ]
  },
  {
   "cell_type": "code",
   "execution_count": 12,
   "metadata": {
    "collapsed": false
   },
   "outputs": [
    {
     "data": {
      "text/html": [
       "<div>\n",
       "<table border=\"1\" class=\"dataframe\">\n",
       "  <thead>\n",
       "    <tr style=\"text-align: right;\">\n",
       "      <th></th>\n",
       "      <th>Country</th>\n",
       "      <th>agree being LGBTI should be a crime</th>\n",
       "      <th>disagree being LGBTI should be a crime</th>\n",
       "      <th>homosexuality should be accepted by society</th>\n",
       "      <th>homosexuality should not be accepted by society</th>\n",
       "      <th>latitude</th>\n",
       "      <th>longitude</th>\n",
       "    </tr>\n",
       "  </thead>\n",
       "  <tbody>\n",
       "    <tr>\n",
       "      <th>0</th>\n",
       "      <td>Algeria</td>\n",
       "      <td>43.0</td>\n",
       "      <td>35.0</td>\n",
       "      <td>NaN</td>\n",
       "      <td>NaN</td>\n",
       "      <td>28.033886</td>\n",
       "      <td>1.659626</td>\n",
       "    </tr>\n",
       "    <tr>\n",
       "      <th>1</th>\n",
       "      <td>Argentina</td>\n",
       "      <td>13.0</td>\n",
       "      <td>67.0</td>\n",
       "      <td>74.0</td>\n",
       "      <td>21.0</td>\n",
       "      <td>-38.416097</td>\n",
       "      <td>-63.616672</td>\n",
       "    </tr>\n",
       "    <tr>\n",
       "      <th>2</th>\n",
       "      <td>Australia</td>\n",
       "      <td>15.0</td>\n",
       "      <td>66.0</td>\n",
       "      <td>79.0</td>\n",
       "      <td>18.0</td>\n",
       "      <td>-25.274398</td>\n",
       "      <td>133.775136</td>\n",
       "    </tr>\n",
       "    <tr>\n",
       "      <th>3</th>\n",
       "      <td>Bolivia</td>\n",
       "      <td>18.0</td>\n",
       "      <td>54.0</td>\n",
       "      <td>43.0</td>\n",
       "      <td>49.0</td>\n",
       "      <td>-16.290154</td>\n",
       "      <td>-63.588653</td>\n",
       "    </tr>\n",
       "    <tr>\n",
       "      <th>4</th>\n",
       "      <td>Brazil</td>\n",
       "      <td>11.0</td>\n",
       "      <td>68.0</td>\n",
       "      <td>60.0</td>\n",
       "      <td>36.0</td>\n",
       "      <td>-14.235004</td>\n",
       "      <td>-51.925280</td>\n",
       "    </tr>\n",
       "  </tbody>\n",
       "</table>\n",
       "</div>"
      ],
      "text/plain": [
       "     Country  agree being LGBTI should be a crime  \\\n",
       "0    Algeria                                 43.0   \n",
       "1  Argentina                                 13.0   \n",
       "2  Australia                                 15.0   \n",
       "3    Bolivia                                 18.0   \n",
       "4     Brazil                                 11.0   \n",
       "\n",
       "   disagree being LGBTI should be a crime  \\\n",
       "0                                    35.0   \n",
       "1                                    67.0   \n",
       "2                                    66.0   \n",
       "3                                    54.0   \n",
       "4                                    68.0   \n",
       "\n",
       "   homosexuality should be accepted by society  \\\n",
       "0                                          NaN   \n",
       "1                                         74.0   \n",
       "2                                         79.0   \n",
       "3                                         43.0   \n",
       "4                                         60.0   \n",
       "\n",
       "   homosexuality should not be accepted by society   latitude   longitude  \n",
       "0                                              NaN  28.033886    1.659626  \n",
       "1                                             21.0 -38.416097  -63.616672  \n",
       "2                                             18.0 -25.274398  133.775136  \n",
       "3                                             49.0 -16.290154  -63.588653  \n",
       "4                                             36.0 -14.235004  -51.925280  "
      ]
     },
     "execution_count": 12,
     "metadata": {},
     "output_type": "execute_result"
    }
   ],
   "source": [
    "country_coordinates = country_coordinates[[column for column in country_coordinates.columns if column != \"code\"]]\n",
    "\n",
    "country_coordinates.rename(columns = {\"country\": \"Country\"}, inplace = True)\n",
    "\n",
    "ELGARIWI2016_PGAHR2014_coordinates = pd.merge(ELGARIWI2016_PGAHR2014, country_coordinates, on = \"Country\", how = \"outer\")\n",
    "\n",
    "# Exclude countries for which there is no ELGARIWI2016 and PGAHR2014 data.\n",
    "ELGARIWI2016_PGAHR2014_coordinates = ELGARIWI2016_PGAHR2014_coordinates[~(ELGARIWI2016_PGAHR2014_coordinates[\"agree being LGBTI should be a crime\"].isnull() & ELGARIWI2016_PGAHR2014_coordinates[\"disagree being LGBTI should be a crime\"].isnull() & ELGARIWI2016_PGAHR2014_coordinates[\"homosexuality should be accepted by society\"].isnull() & ELGARIWI2016_PGAHR2014_coordinates[\"homosexuality should not be accepted by society\"].isnull())]\n",
    "\n",
    "ELGARIWI2016_PGAHR2014_coordinates.head()"
   ]
  },
  {
   "cell_type": "code",
   "execution_count": 13,
   "metadata": {
    "collapsed": false
   },
   "outputs": [
    {
     "data": {
      "image/png": "[encoded data removed]",
      "text/plain": [
       "<matplotlib.figure.Figure at 0x7fa8db04ad90>"
      ]
     },
     "metadata": {},
     "output_type": "display_data"
    }
   ],
   "source": [
    "plot = sns.clustermap(ELGARIWI2016_PGAHR2014_coordinates.corr())\n",
    "_ = plt.setp(plot.ax_heatmap.get_yticklabels(), rotation = 0)"
   ]
  },
  {
   "cell_type": "markdown",
   "metadata": {},
   "source": [
    "# correlations with murders"
   ]
  },
  {
   "cell_type": "code",
   "execution_count": 14,
   "metadata": {
    "collapsed": false
   },
   "outputs": [
    {
     "data": {
      "text/html": [
       "<div>\n",
       "<table border=\"1\" class=\"dataframe\">\n",
       "  <thead>\n",
       "    <tr style=\"text-align: right;\">\n",
       "      <th></th>\n",
       "      <th>Country</th>\n",
       "      <th>Rate</th>\n",
       "      <th>Count</th>\n",
       "      <th>Region</th>\n",
       "      <th>Subregion</th>\n",
       "      <th>Year</th>\n",
       "    </tr>\n",
       "  </thead>\n",
       "  <tbody>\n",
       "    <tr>\n",
       "      <th>0</th>\n",
       "      <td>Afghanistan</td>\n",
       "      <td>6.5</td>\n",
       "      <td>1948.0</td>\n",
       "      <td>Asia</td>\n",
       "      <td>Southern Asia</td>\n",
       "      <td>2012</td>\n",
       "    </tr>\n",
       "    <tr>\n",
       "      <th>1</th>\n",
       "      <td>Albania</td>\n",
       "      <td>4.0</td>\n",
       "      <td>117.0</td>\n",
       "      <td>Europe</td>\n",
       "      <td>Southern Europe</td>\n",
       "      <td>2014</td>\n",
       "    </tr>\n",
       "    <tr>\n",
       "      <th>2</th>\n",
       "      <td>Algeria</td>\n",
       "      <td>1.5</td>\n",
       "      <td>577.0</td>\n",
       "      <td>Africa</td>\n",
       "      <td>Northern Africa</td>\n",
       "      <td>2014</td>\n",
       "    </tr>\n",
       "    <tr>\n",
       "      <th>3</th>\n",
       "      <td>Andorra</td>\n",
       "      <td>0.0</td>\n",
       "      <td>0.0</td>\n",
       "      <td>Europe</td>\n",
       "      <td>Southern Europe</td>\n",
       "      <td>2014</td>\n",
       "    </tr>\n",
       "    <tr>\n",
       "      <th>4</th>\n",
       "      <td>Angola</td>\n",
       "      <td>10.8</td>\n",
       "      <td>2232.0</td>\n",
       "      <td>Africa</td>\n",
       "      <td>Middle Africa</td>\n",
       "      <td>2012</td>\n",
       "    </tr>\n",
       "  </tbody>\n",
       "</table>\n",
       "</div>"
      ],
      "text/plain": [
       "       Country  Rate   Count  Region        Subregion  Year\n",
       "0  Afghanistan   6.5  1948.0    Asia    Southern Asia  2012\n",
       "1      Albania   4.0   117.0  Europe  Southern Europe  2014\n",
       "2      Algeria   1.5   577.0  Africa  Northern Africa  2014\n",
       "3      Andorra   0.0     0.0  Europe  Southern Europe  2014\n",
       "4       Angola  10.8  2232.0  Africa    Middle Africa  2012"
      ]
     },
     "execution_count": 14,
     "metadata": {},
     "output_type": "execute_result"
    }
   ],
   "source": [
    "UNODC2014.head()"
   ]
  },
  {
   "cell_type": "code",
   "execution_count": 15,
   "metadata": {
    "collapsed": false
   },
   "outputs": [
    {
     "data": {
      "text/html": [
       "<div>\n",
       "<table border=\"1\" class=\"dataframe\">\n",
       "  <thead>\n",
       "    <tr style=\"text-align: right;\">\n",
       "      <th></th>\n",
       "      <th>Country</th>\n",
       "      <th>agree being LGBTI should be a crime</th>\n",
       "      <th>disagree being LGBTI should be a crime</th>\n",
       "      <th>homosexuality should be accepted by society</th>\n",
       "      <th>homosexuality should not be accepted by society</th>\n",
       "      <th>Rate</th>\n",
       "      <th>Region</th>\n",
       "      <th>Subregion</th>\n",
       "    </tr>\n",
       "  </thead>\n",
       "  <tbody>\n",
       "    <tr>\n",
       "      <th>0</th>\n",
       "      <td>Algeria</td>\n",
       "      <td>43.0</td>\n",
       "      <td>35.0</td>\n",
       "      <td>NaN</td>\n",
       "      <td>NaN</td>\n",
       "      <td>1.5</td>\n",
       "      <td>Africa</td>\n",
       "      <td>Northern Africa</td>\n",
       "    </tr>\n",
       "    <tr>\n",
       "      <th>1</th>\n",
       "      <td>Argentina</td>\n",
       "      <td>13.0</td>\n",
       "      <td>67.0</td>\n",
       "      <td>74.0</td>\n",
       "      <td>21.0</td>\n",
       "      <td>7.6</td>\n",
       "      <td>Americas</td>\n",
       "      <td>South America</td>\n",
       "    </tr>\n",
       "    <tr>\n",
       "      <th>2</th>\n",
       "      <td>Australia</td>\n",
       "      <td>15.0</td>\n",
       "      <td>66.0</td>\n",
       "      <td>79.0</td>\n",
       "      <td>18.0</td>\n",
       "      <td>1.0</td>\n",
       "      <td>Oceania</td>\n",
       "      <td>Australasia</td>\n",
       "    </tr>\n",
       "    <tr>\n",
       "      <th>3</th>\n",
       "      <td>Bolivia</td>\n",
       "      <td>18.0</td>\n",
       "      <td>54.0</td>\n",
       "      <td>43.0</td>\n",
       "      <td>49.0</td>\n",
       "      <td>12.1</td>\n",
       "      <td>Americas</td>\n",
       "      <td>South America</td>\n",
       "    </tr>\n",
       "    <tr>\n",
       "      <th>4</th>\n",
       "      <td>Brazil</td>\n",
       "      <td>11.0</td>\n",
       "      <td>68.0</td>\n",
       "      <td>60.0</td>\n",
       "      <td>36.0</td>\n",
       "      <td>24.6</td>\n",
       "      <td>Americas</td>\n",
       "      <td>South America</td>\n",
       "    </tr>\n",
       "  </tbody>\n",
       "</table>\n",
       "</div>"
      ],
      "text/plain": [
       "     Country  agree being LGBTI should be a crime  \\\n",
       "0    Algeria                                 43.0   \n",
       "1  Argentina                                 13.0   \n",
       "2  Australia                                 15.0   \n",
       "3    Bolivia                                 18.0   \n",
       "4     Brazil                                 11.0   \n",
       "\n",
       "   disagree being LGBTI should be a crime  \\\n",
       "0                                    35.0   \n",
       "1                                    67.0   \n",
       "2                                    66.0   \n",
       "3                                    54.0   \n",
       "4                                    68.0   \n",
       "\n",
       "   homosexuality should be accepted by society  \\\n",
       "0                                          NaN   \n",
       "1                                         74.0   \n",
       "2                                         79.0   \n",
       "3                                         43.0   \n",
       "4                                         60.0   \n",
       "\n",
       "   homosexuality should not be accepted by society  Rate    Region  \\\n",
       "0                                              NaN   1.5    Africa   \n",
       "1                                             21.0   7.6  Americas   \n",
       "2                                             18.0   1.0   Oceania   \n",
       "3                                             49.0  12.1  Americas   \n",
       "4                                             36.0  24.6  Americas   \n",
       "\n",
       "         Subregion  \n",
       "0  Northern Africa  \n",
       "1    South America  \n",
       "2      Australasia  \n",
       "3    South America  \n",
       "4    South America  "
      ]
     },
     "execution_count": 15,
     "metadata": {},
     "output_type": "execute_result"
    }
   ],
   "source": [
    "UNODC2014 = UNODC2014[[column for column in UNODC2014.columns if column != \"Year\"]]\n",
    "UNODC2014 = UNODC2014[[column for column in UNODC2014.columns if column != \"Count\"]]\n",
    "\n",
    "ELGARIWI2016_PGAHR2014_UNODC2014 = pd.merge(ELGARIWI2016_PGAHR2014, UNODC2014, on = \"Country\", how = \"outer\")\n",
    "\n",
    "# Exclude countries for which there is no ELGARIWI2016 and PGAHR2014 data.\n",
    "ELGARIWI2016_PGAHR2014_UNODC2014 = ELGARIWI2016_PGAHR2014_UNODC2014[~(ELGARIWI2016_PGAHR2014_UNODC2014[\"agree being LGBTI should be a crime\"].isnull() & ELGARIWI2016_PGAHR2014_UNODC2014[\"disagree being LGBTI should be a crime\"].isnull() & ELGARIWI2016_PGAHR2014_UNODC2014[\"homosexuality should be accepted by society\"].isnull() & ELGARIWI2016_PGAHR2014_UNODC2014[\"homosexuality should not be accepted by society\"].isnull())]\n",
    "\n",
    "ELGARIWI2016_PGAHR2014_UNODC2014.head()"
   ]
  },
  {
   "cell_type": "code",
   "execution_count": 16,
   "metadata": {
    "collapsed": false
   },
   "outputs": [
    {
     "data": {
      "image/png": "[encoded data removed]",
      "text/plain": [
       "<matplotlib.figure.Figure at 0x7fa8cf505a10>"
      ]
     },
     "metadata": {},
     "output_type": "display_data"
    }
   ],
   "source": [
    "plot = sns.clustermap(ELGARIWI2016_PGAHR2014_UNODC2014.corr())\n",
    "_ = plt.setp(plot.ax_heatmap.get_yticklabels(), rotation = 0)"
   ]
  },
  {
   "cell_type": "markdown",
   "metadata": {},
   "source": [
    "# correlations with country employment rates"
   ]
  },
  {
   "cell_type": "code",
   "execution_count": 19,
   "metadata": {
    "collapsed": false
   },
   "outputs": [
    {
     "data": {
      "text/html": [
       "<div>\n",
       "<table border=\"1\" class=\"dataframe\">\n",
       "  <thead>\n",
       "    <tr style=\"text-align: right;\">\n",
       "      <th></th>\n",
       "      <th>Rank</th>\n",
       "      <th>Country</th>\n",
       "      <th>Employment rate</th>\n",
       "    </tr>\n",
       "  </thead>\n",
       "  <tbody>\n",
       "    <tr>\n",
       "      <th>0</th>\n",
       "      <td>39</td>\n",
       "      <td>Albania</td>\n",
       "      <td>56.2</td>\n",
       "    </tr>\n",
       "    <tr>\n",
       "      <th>1</th>\n",
       "      <td>12</td>\n",
       "      <td>Australia</td>\n",
       "      <td>71.6</td>\n",
       "    </tr>\n",
       "    <tr>\n",
       "      <th>2</th>\n",
       "      <td>13</td>\n",
       "      <td>Austria</td>\n",
       "      <td>71.1</td>\n",
       "    </tr>\n",
       "    <tr>\n",
       "      <th>3</th>\n",
       "      <td>31</td>\n",
       "      <td>Belgium</td>\n",
       "      <td>61.9</td>\n",
       "    </tr>\n",
       "    <tr>\n",
       "      <th>4</th>\n",
       "      <td>44</td>\n",
       "      <td>Bosnia and Herzegovina</td>\n",
       "      <td>41.3</td>\n",
       "    </tr>\n",
       "  </tbody>\n",
       "</table>\n",
       "</div>"
      ],
      "text/plain": [
       "   Rank                 Country  Employment rate\n",
       "0    39                 Albania             56.2\n",
       "1    12               Australia             71.6\n",
       "2    13                 Austria             71.1\n",
       "3    31                 Belgium             61.9\n",
       "4    44  Bosnia and Herzegovina             41.3"
      ]
     },
     "execution_count": 19,
     "metadata": {},
     "output_type": "execute_result"
    }
   ],
   "source": [
    "country_employment.head()"
   ]
  },
  {
   "cell_type": "code",
   "execution_count": 23,
   "metadata": {
    "collapsed": false
   },
   "outputs": [
    {
     "data": {
      "text/html": [
       "<div>\n",
       "<table border=\"1\" class=\"dataframe\">\n",
       "  <thead>\n",
       "    <tr style=\"text-align: right;\">\n",
       "      <th></th>\n",
       "      <th>Country</th>\n",
       "      <th>agree being LGBTI should be a crime</th>\n",
       "      <th>disagree being LGBTI should be a crime</th>\n",
       "      <th>homosexuality should be accepted by society</th>\n",
       "      <th>homosexuality should not be accepted by society</th>\n",
       "      <th>Employment rate</th>\n",
       "    </tr>\n",
       "  </thead>\n",
       "  <tbody>\n",
       "    <tr>\n",
       "      <th>0</th>\n",
       "      <td>Algeria</td>\n",
       "      <td>43.0</td>\n",
       "      <td>35.0</td>\n",
       "      <td>NaN</td>\n",
       "      <td>NaN</td>\n",
       "      <td>NaN</td>\n",
       "    </tr>\n",
       "    <tr>\n",
       "      <th>1</th>\n",
       "      <td>Argentina</td>\n",
       "      <td>13.0</td>\n",
       "      <td>67.0</td>\n",
       "      <td>74.0</td>\n",
       "      <td>21.0</td>\n",
       "      <td>NaN</td>\n",
       "    </tr>\n",
       "    <tr>\n",
       "      <th>2</th>\n",
       "      <td>Australia</td>\n",
       "      <td>15.0</td>\n",
       "      <td>66.0</td>\n",
       "      <td>79.0</td>\n",
       "      <td>18.0</td>\n",
       "      <td>71.6</td>\n",
       "    </tr>\n",
       "    <tr>\n",
       "      <th>3</th>\n",
       "      <td>Bolivia</td>\n",
       "      <td>18.0</td>\n",
       "      <td>54.0</td>\n",
       "      <td>43.0</td>\n",
       "      <td>49.0</td>\n",
       "      <td>NaN</td>\n",
       "    </tr>\n",
       "    <tr>\n",
       "      <th>4</th>\n",
       "      <td>Brazil</td>\n",
       "      <td>11.0</td>\n",
       "      <td>68.0</td>\n",
       "      <td>60.0</td>\n",
       "      <td>36.0</td>\n",
       "      <td>66.7</td>\n",
       "    </tr>\n",
       "  </tbody>\n",
       "</table>\n",
       "</div>"
      ],
      "text/plain": [
       "     Country  agree being LGBTI should be a crime  \\\n",
       "0    Algeria                                 43.0   \n",
       "1  Argentina                                 13.0   \n",
       "2  Australia                                 15.0   \n",
       "3    Bolivia                                 18.0   \n",
       "4     Brazil                                 11.0   \n",
       "\n",
       "   disagree being LGBTI should be a crime  \\\n",
       "0                                    35.0   \n",
       "1                                    67.0   \n",
       "2                                    66.0   \n",
       "3                                    54.0   \n",
       "4                                    68.0   \n",
       "\n",
       "   homosexuality should be accepted by society  \\\n",
       "0                                          NaN   \n",
       "1                                         74.0   \n",
       "2                                         79.0   \n",
       "3                                         43.0   \n",
       "4                                         60.0   \n",
       "\n",
       "   homosexuality should not be accepted by society  Employment rate  \n",
       "0                                              NaN              NaN  \n",
       "1                                             21.0              NaN  \n",
       "2                                             18.0             71.6  \n",
       "3                                             49.0              NaN  \n",
       "4                                             36.0             66.7  "
      ]
     },
     "execution_count": 23,
     "metadata": {},
     "output_type": "execute_result"
    }
   ],
   "source": [
    "country_employment = country_employment[[column for column in country_employment.columns if column != \"Rank\"]]\n",
    "\n",
    "ELGARIWI2016_PGAHR2014_country_employment = pd.merge(ELGARIWI2016_PGAHR2014, country_employment, on = \"Country\", how = \"outer\")\n",
    "\n",
    "# Exclude countries for which there is no ELGARIWI2016 and PGAHR2014 data.\n",
    "ELGARIWI2016_PGAHR2014_country_employment = ELGARIWI2016_PGAHR2014_country_employment[~(ELGARIWI2016_PGAHR2014_country_employment[\"agree being LGBTI should be a crime\"].isnull() & ELGARIWI2016_PGAHR2014_country_employment[\"disagree being LGBTI should be a crime\"].isnull() & ELGARIWI2016_PGAHR2014_country_employment[\"homosexuality should be accepted by society\"].isnull() & ELGARIWI2016_PGAHR2014_country_employment[\"homosexuality should not be accepted by society\"].isnull())]\n",
    "\n",
    "ELGARIWI2016_PGAHR2014_country_employment.head()"
   ]
  },
  {
   "cell_type": "code",
   "execution_count": 24,
   "metadata": {
    "collapsed": false
   },
   "outputs": [
    {
     "data": {
      "image/png": "[encoded data removed]",
      "text/plain": [
       "<matplotlib.figure.Figure at 0x7fa8ce6f3dd0>"
      ]
     },
     "metadata": {},
     "output_type": "display_data"
    }
   ],
   "source": [
    "plot = sns.clustermap(ELGARIWI2016_PGAHR2014_country_employment.corr())\n",
    "_ = plt.setp(plot.ax_heatmap.get_yticklabels(), rotation = 0)"
   ]
  },
  {
   "cell_type": "code",
   "execution_count": null,
   "metadata": {
    "collapsed": true
   },
   "outputs": [],
   "source": []
  }
 ],
 "metadata": {
  "kernelspec": {
   "display_name": "Python 2",
   "language": "python",
   "name": "python2"
  },
  "language_info": {
   "codemirror_mode": {
    "name": "ipython",
    "version": 2
   },
   "file_extension": ".py",
   "mimetype": "text/x-python",
   "name": "python",
   "nbconvert_exporter": "python",
   "pygments_lexer": "ipython2",
   "version": "2.7.12"
  }
 },
 "nbformat": 4,
 "nbformat_minor": 2
}
