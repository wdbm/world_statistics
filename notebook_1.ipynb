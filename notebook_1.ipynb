{
 "cells": [
  {
   "cell_type": "markdown",
   "metadata": {},
   "source": [
    "# hierarchically clustered correlations between country views on homosexuality and LGBTI and country happiness metrics\n",
    "\n",
    "# references\n",
    "\n",
    "- [The ILGA-RIWI 2016 Global Attitudes Survey on LGBTI People in Partnership with LOGO](http://ilga.org/downloads/07_THE_ILGA_RIWI_2016_GLOBAL_ATTITUDES_SURVEY_ON_LGBTI_PEOPLE.pdf)\n",
    "- [The Global Divide on Homosexuality, Pew Research, 2014](http://www.pewglobal.org/files/2014/05/Pew-Global-Attitudes-Homosexuality-Report-REVISED-MAY-27-2014.pdf)\n",
    "- [World Happiness Report 2017 Wikipedia table](https://en.wikipedia.org/wiki/World_Happiness_Report#2017_report)\n",
    "\n",
    "# data"
   ]
  },
  {
   "cell_type": "code",
   "execution_count": 1,
   "metadata": {
    "collapsed": true
   },
   "outputs": [],
   "source": [
    "import pandas as pd\n",
    "\n",
    "ELGARIWI2016 = pd.read_csv(\"ILGA-RIWI_2016.csv\", delimiter = \",\")\n",
    "PGAHR2014    = pd.read_csv(\"Pew_Global_Attitudes_Homosexuality_Report_2014.csv\", delimiter = \",\")\n",
    "WHR2017      = pd.read_csv(\"World_Happiness_Report_2017.csv\", delimiter = \",\")"
   ]
  },
  {
   "cell_type": "code",
   "execution_count": 2,
   "metadata": {
    "collapsed": true
   },
   "outputs": [],
   "source": [
    "import seaborn as sns\n",
    "import matplotlib.pyplot as plt\n",
    "%matplotlib inline\n",
    "sns.set(context = \"paper\", font = \"monospace\")"
   ]
  },
  {
   "cell_type": "code",
   "execution_count": 3,
   "metadata": {
    "collapsed": false
   },
   "outputs": [
    {
     "data": {
      "text/html": [
       "<div>\n",
       "<table border=\"1\" class=\"dataframe\">\n",
       "  <thead>\n",
       "    <tr style=\"text-align: right;\">\n",
       "      <th></th>\n",
       "      <th>country</th>\n",
       "      <th>agree being LGBTI should be a crime</th>\n",
       "      <th>disagree being LGBTI should be a crime</th>\n",
       "    </tr>\n",
       "  </thead>\n",
       "  <tbody>\n",
       "    <tr>\n",
       "      <th>0</th>\n",
       "      <td>Algeria</td>\n",
       "      <td>43</td>\n",
       "      <td>35</td>\n",
       "    </tr>\n",
       "    <tr>\n",
       "      <th>1</th>\n",
       "      <td>Argentina</td>\n",
       "      <td>13</td>\n",
       "      <td>67</td>\n",
       "    </tr>\n",
       "    <tr>\n",
       "      <th>2</th>\n",
       "      <td>Australia</td>\n",
       "      <td>15</td>\n",
       "      <td>66</td>\n",
       "    </tr>\n",
       "    <tr>\n",
       "      <th>3</th>\n",
       "      <td>Bolivia</td>\n",
       "      <td>18</td>\n",
       "      <td>54</td>\n",
       "    </tr>\n",
       "    <tr>\n",
       "      <th>4</th>\n",
       "      <td>Brazil</td>\n",
       "      <td>11</td>\n",
       "      <td>68</td>\n",
       "    </tr>\n",
       "  </tbody>\n",
       "</table>\n",
       "</div>"
      ],
      "text/plain": [
       "     country  agree being LGBTI should be a crime  \\\n",
       "0    Algeria                                   43   \n",
       "1  Argentina                                   13   \n",
       "2  Australia                                   15   \n",
       "3    Bolivia                                   18   \n",
       "4     Brazil                                   11   \n",
       "\n",
       "   disagree being LGBTI should be a crime  \n",
       "0                                      35  \n",
       "1                                      67  \n",
       "2                                      66  \n",
       "3                                      54  \n",
       "4                                      68  "
      ]
     },
     "execution_count": 3,
     "metadata": {},
     "output_type": "execute_result"
    }
   ],
   "source": [
    "ELGARIWI2016.head()"
   ]
  },
  {
   "cell_type": "code",
   "execution_count": 4,
   "metadata": {
    "collapsed": false
   },
   "outputs": [
    {
     "data": {
      "text/html": [
       "<div>\n",
       "<table border=\"1\" class=\"dataframe\">\n",
       "  <thead>\n",
       "    <tr style=\"text-align: right;\">\n",
       "      <th></th>\n",
       "      <th>country</th>\n",
       "      <th>homosexuality should be accepted by society</th>\n",
       "      <th>homosexuality should not be accepted by society</th>\n",
       "    </tr>\n",
       "  </thead>\n",
       "  <tbody>\n",
       "    <tr>\n",
       "      <th>0</th>\n",
       "      <td>Argentina</td>\n",
       "      <td>74</td>\n",
       "      <td>21</td>\n",
       "    </tr>\n",
       "    <tr>\n",
       "      <th>1</th>\n",
       "      <td>Australia</td>\n",
       "      <td>79</td>\n",
       "      <td>18</td>\n",
       "    </tr>\n",
       "    <tr>\n",
       "      <th>2</th>\n",
       "      <td>Bolivia</td>\n",
       "      <td>43</td>\n",
       "      <td>49</td>\n",
       "    </tr>\n",
       "    <tr>\n",
       "      <th>3</th>\n",
       "      <td>Brazil</td>\n",
       "      <td>60</td>\n",
       "      <td>36</td>\n",
       "    </tr>\n",
       "    <tr>\n",
       "      <th>4</th>\n",
       "      <td>Britain</td>\n",
       "      <td>76</td>\n",
       "      <td>18</td>\n",
       "    </tr>\n",
       "  </tbody>\n",
       "</table>\n",
       "</div>"
      ],
      "text/plain": [
       "     country  homosexuality should be accepted by society  \\\n",
       "0  Argentina                                           74   \n",
       "1  Australia                                           79   \n",
       "2    Bolivia                                           43   \n",
       "3     Brazil                                           60   \n",
       "4    Britain                                           76   \n",
       "\n",
       "   homosexuality should not be accepted by society  \n",
       "0                                               21  \n",
       "1                                               18  \n",
       "2                                               49  \n",
       "3                                               36  \n",
       "4                                               18  "
      ]
     },
     "execution_count": 4,
     "metadata": {},
     "output_type": "execute_result"
    }
   ],
   "source": [
    "PGAHR2014.head()"
   ]
  },
  {
   "cell_type": "code",
   "execution_count": 5,
   "metadata": {
    "collapsed": true
   },
   "outputs": [],
   "source": [
    "ELGARIWI2016_PGAHR2014 = pd.merge(ELGARIWI2016, PGAHR2014, on = \"country\", how = \"outer\")"
   ]
  },
  {
   "cell_type": "code",
   "execution_count": 6,
   "metadata": {
    "collapsed": false
   },
   "outputs": [
    {
     "data": {
      "text/html": [
       "<div>\n",
       "<table border=\"1\" class=\"dataframe\">\n",
       "  <thead>\n",
       "    <tr style=\"text-align: right;\">\n",
       "      <th></th>\n",
       "      <th>agree being LGBTI should be a crime</th>\n",
       "      <th>disagree being LGBTI should be a crime</th>\n",
       "      <th>homosexuality should be accepted by society</th>\n",
       "      <th>homosexuality should not be accepted by society</th>\n",
       "    </tr>\n",
       "  </thead>\n",
       "  <tbody>\n",
       "    <tr>\n",
       "      <th>agree being LGBTI should be a crime</th>\n",
       "      <td>1.000000</td>\n",
       "      <td>-0.950706</td>\n",
       "      <td>-0.873782</td>\n",
       "      <td>0.917213</td>\n",
       "    </tr>\n",
       "    <tr>\n",
       "      <th>disagree being LGBTI should be a crime</th>\n",
       "      <td>-0.950706</td>\n",
       "      <td>1.000000</td>\n",
       "      <td>0.890505</td>\n",
       "      <td>-0.930326</td>\n",
       "    </tr>\n",
       "    <tr>\n",
       "      <th>homosexuality should be accepted by society</th>\n",
       "      <td>-0.873782</td>\n",
       "      <td>0.890505</td>\n",
       "      <td>1.000000</td>\n",
       "      <td>-0.989094</td>\n",
       "    </tr>\n",
       "    <tr>\n",
       "      <th>homosexuality should not be accepted by society</th>\n",
       "      <td>0.917213</td>\n",
       "      <td>-0.930326</td>\n",
       "      <td>-0.989094</td>\n",
       "      <td>1.000000</td>\n",
       "    </tr>\n",
       "  </tbody>\n",
       "</table>\n",
       "</div>"
      ],
      "text/plain": [
       "                                                 agree being LGBTI should be a crime  \\\n",
       "agree being LGBTI should be a crime                                         1.000000   \n",
       "disagree being LGBTI should be a crime                                     -0.950706   \n",
       "homosexuality should be accepted by society                                -0.873782   \n",
       "homosexuality should not be accepted by society                             0.917213   \n",
       "\n",
       "                                                 disagree being LGBTI should be a crime  \\\n",
       "agree being LGBTI should be a crime                                           -0.950706   \n",
       "disagree being LGBTI should be a crime                                         1.000000   \n",
       "homosexuality should be accepted by society                                    0.890505   \n",
       "homosexuality should not be accepted by society                               -0.930326   \n",
       "\n",
       "                                                 homosexuality should be accepted by society  \\\n",
       "agree being LGBTI should be a crime                                                -0.873782   \n",
       "disagree being LGBTI should be a crime                                              0.890505   \n",
       "homosexuality should be accepted by society                                         1.000000   \n",
       "homosexuality should not be accepted by society                                    -0.989094   \n",
       "\n",
       "                                                 homosexuality should not be accepted by society  \n",
       "agree being LGBTI should be a crime                                                     0.917213  \n",
       "disagree being LGBTI should be a crime                                                 -0.930326  \n",
       "homosexuality should be accepted by society                                            -0.989094  \n",
       "homosexuality should not be accepted by society                                         1.000000  "
      ]
     },
     "execution_count": 6,
     "metadata": {},
     "output_type": "execute_result"
    }
   ],
   "source": [
    "ELGARIWI2016_PGAHR2014.corr()"
   ]
  },
  {
   "cell_type": "code",
   "execution_count": 7,
   "metadata": {
    "collapsed": false
   },
   "outputs": [
    {
     "data": {
      "text/html": [
       "<div>\n",
       "<table border=\"1\" class=\"dataframe\">\n",
       "  <thead>\n",
       "    <tr style=\"text-align: right;\">\n",
       "      <th></th>\n",
       "      <th>Country</th>\n",
       "      <th>agree being LGBTI should be a crime</th>\n",
       "      <th>disagree being LGBTI should be a crime</th>\n",
       "      <th>homosexuality should be accepted by society</th>\n",
       "      <th>homosexuality should not be accepted by society</th>\n",
       "      <th>Overall Rank</th>\n",
       "      <th>Change in rank</th>\n",
       "      <th>Score</th>\n",
       "      <th>Change in score</th>\n",
       "      <th>GDP per capita</th>\n",
       "      <th>Social support</th>\n",
       "      <th>Healthy life expectancy</th>\n",
       "      <th>Freedom to make life choices</th>\n",
       "      <th>Generosity</th>\n",
       "      <th>Trust</th>\n",
       "      <th>Residual</th>\n",
       "    </tr>\n",
       "  </thead>\n",
       "  <tbody>\n",
       "    <tr>\n",
       "      <th>0</th>\n",
       "      <td>Algeria</td>\n",
       "      <td>43.0</td>\n",
       "      <td>35.0</td>\n",
       "      <td>NaN</td>\n",
       "      <td>NaN</td>\n",
       "      <td>53.0</td>\n",
       "      <td>-15.0</td>\n",
       "      <td>5.872</td>\n",
       "      <td>-0.483</td>\n",
       "      <td>1.092</td>\n",
       "      <td>1.146</td>\n",
       "      <td>0.618</td>\n",
       "      <td>0.233</td>\n",
       "      <td>0.069</td>\n",
       "      <td>0.146</td>\n",
       "      <td>2.568</td>\n",
       "    </tr>\n",
       "    <tr>\n",
       "      <th>1</th>\n",
       "      <td>Argentina</td>\n",
       "      <td>13.0</td>\n",
       "      <td>67.0</td>\n",
       "      <td>74.0</td>\n",
       "      <td>21.0</td>\n",
       "      <td>24.0</td>\n",
       "      <td>2.0</td>\n",
       "      <td>6.599</td>\n",
       "      <td>-0.051</td>\n",
       "      <td>1.185</td>\n",
       "      <td>1.440</td>\n",
       "      <td>0.695</td>\n",
       "      <td>0.495</td>\n",
       "      <td>0.109</td>\n",
       "      <td>0.060</td>\n",
       "      <td>2.614</td>\n",
       "    </tr>\n",
       "    <tr>\n",
       "      <th>2</th>\n",
       "      <td>Australia</td>\n",
       "      <td>15.0</td>\n",
       "      <td>66.0</td>\n",
       "      <td>79.0</td>\n",
       "      <td>18.0</td>\n",
       "      <td>9.0</td>\n",
       "      <td>0.0</td>\n",
       "      <td>7.284</td>\n",
       "      <td>-0.029</td>\n",
       "      <td>1.484</td>\n",
       "      <td>1.510</td>\n",
       "      <td>0.844</td>\n",
       "      <td>0.602</td>\n",
       "      <td>0.478</td>\n",
       "      <td>0.301</td>\n",
       "      <td>2.065</td>\n",
       "    </tr>\n",
       "    <tr>\n",
       "      <th>3</th>\n",
       "      <td>Bolivia</td>\n",
       "      <td>18.0</td>\n",
       "      <td>54.0</td>\n",
       "      <td>43.0</td>\n",
       "      <td>49.0</td>\n",
       "      <td>58.0</td>\n",
       "      <td>1.0</td>\n",
       "      <td>5.823</td>\n",
       "      <td>0.001</td>\n",
       "      <td>0.834</td>\n",
       "      <td>1.228</td>\n",
       "      <td>0.474</td>\n",
       "      <td>0.559</td>\n",
       "      <td>0.226</td>\n",
       "      <td>0.060</td>\n",
       "      <td>2.443</td>\n",
       "    </tr>\n",
       "    <tr>\n",
       "      <th>4</th>\n",
       "      <td>Brazil</td>\n",
       "      <td>11.0</td>\n",
       "      <td>68.0</td>\n",
       "      <td>60.0</td>\n",
       "      <td>36.0</td>\n",
       "      <td>22.0</td>\n",
       "      <td>-5.0</td>\n",
       "      <td>6.635</td>\n",
       "      <td>-0.317</td>\n",
       "      <td>1.107</td>\n",
       "      <td>1.431</td>\n",
       "      <td>0.617</td>\n",
       "      <td>0.437</td>\n",
       "      <td>0.162</td>\n",
       "      <td>0.111</td>\n",
       "      <td>2.769</td>\n",
       "    </tr>\n",
       "  </tbody>\n",
       "</table>\n",
       "</div>"
      ],
      "text/plain": [
       "     Country  agree being LGBTI should be a crime  \\\n",
       "0    Algeria                                 43.0   \n",
       "1  Argentina                                 13.0   \n",
       "2  Australia                                 15.0   \n",
       "3    Bolivia                                 18.0   \n",
       "4     Brazil                                 11.0   \n",
       "\n",
       "   disagree being LGBTI should be a crime  \\\n",
       "0                                    35.0   \n",
       "1                                    67.0   \n",
       "2                                    66.0   \n",
       "3                                    54.0   \n",
       "4                                    68.0   \n",
       "\n",
       "   homosexuality should be accepted by society  \\\n",
       "0                                          NaN   \n",
       "1                                         74.0   \n",
       "2                                         79.0   \n",
       "3                                         43.0   \n",
       "4                                         60.0   \n",
       "\n",
       "   homosexuality should not be accepted by society  Overall Rank  \\\n",
       "0                                              NaN          53.0   \n",
       "1                                             21.0          24.0   \n",
       "2                                             18.0           9.0   \n",
       "3                                             49.0          58.0   \n",
       "4                                             36.0          22.0   \n",
       "\n",
       "   Change in rank  Score  Change in score  GDP per capita  Social support  \\\n",
       "0           -15.0  5.872           -0.483           1.092           1.146   \n",
       "1             2.0  6.599           -0.051           1.185           1.440   \n",
       "2             0.0  7.284           -0.029           1.484           1.510   \n",
       "3             1.0  5.823            0.001           0.834           1.228   \n",
       "4            -5.0  6.635           -0.317           1.107           1.431   \n",
       "\n",
       "   Healthy life expectancy  Freedom to make life choices  Generosity  Trust  \\\n",
       "0                    0.618                         0.233       0.069  0.146   \n",
       "1                    0.695                         0.495       0.109  0.060   \n",
       "2                    0.844                         0.602       0.478  0.301   \n",
       "3                    0.474                         0.559       0.226  0.060   \n",
       "4                    0.617                         0.437       0.162  0.111   \n",
       "\n",
       "   Residual  \n",
       "0     2.568  \n",
       "1     2.614  \n",
       "2     2.065  \n",
       "3     2.443  \n",
       "4     2.769  "
      ]
     },
     "execution_count": 7,
     "metadata": {},
     "output_type": "execute_result"
    }
   ],
   "source": [
    "ELGARIWI2016_PGAHR2014.rename(columns = {\"country\": \"Country\"}, inplace = True)\n",
    "\n",
    "ELGARIWI2016_PGAHR2014_WHR2017 = pd.merge(ELGARIWI2016_PGAHR2014, WHR2017, on = \"Country\", how = \"outer\")\n",
    "\n",
    "# Exclude countries for which there is no ELGARIWI2016 and PGAHR2014 data.\n",
    "ELGARIWI2016_PGAHR2014_WHR2017 = ELGARIWI2016_PGAHR2014_WHR2017[~(ELGARIWI2016_PGAHR2014_WHR2017[\"agree being LGBTI should be a crime\"].isnull() & ELGARIWI2016_PGAHR2014_WHR2017[\"disagree being LGBTI should be a crime\"].isnull() & ELGARIWI2016_PGAHR2014_WHR2017[\"homosexuality should be accepted by society\"].isnull() & ELGARIWI2016_PGAHR2014_WHR2017[\"homosexuality should not be accepted by society\"].isnull())]\n",
    "\n",
    "ELGARIWI2016_PGAHR2014_WHR2017.head()"
   ]
  },
  {
   "cell_type": "code",
   "execution_count": 8,
   "metadata": {
    "collapsed": false
   },
   "outputs": [
    {
     "name": "stderr",
     "output_type": "stream",
     "text": [
      "/usr/local/lib/python2.7/dist-packages/matplotlib/cbook.py:136: MatplotlibDeprecationWarning: The axisbg attribute was deprecated in version 2.0. Use facecolor instead.\n",
      "  warnings.warn(message, mplDeprecation, stacklevel=1)\n"
     ]
    },
    {
     "data": {
      "image/png": "[encoded data removed]",
      "text/plain": [
       "<matplotlib.figure.Figure at 0x7f96bd4056d0>"
      ]
     },
     "metadata": {},
     "output_type": "display_data"
    }
   ],
   "source": [
    "plot = sns.clustermap(ELGARIWI2016_PGAHR2014_WHR2017.corr())\n",
    "_ = plt.setp(plot.ax_heatmap.get_yticklabels(), rotation = 0)"
   ]
  },
  {
   "cell_type": "code",
   "execution_count": null,
   "metadata": {
    "collapsed": true
   },
   "outputs": [],
   "source": []
  }
 ],
 "metadata": {
  "kernelspec": {
   "display_name": "Python 2",
   "language": "python",
   "name": "python2"
  },
  "language_info": {
   "codemirror_mode": {
    "name": "ipython",
    "version": 2
   },
   "file_extension": ".py",
   "mimetype": "text/x-python",
   "name": "python",
   "nbconvert_exporter": "python",
   "pygments_lexer": "ipython2",
   "version": "2.7.12"
  }
 },
 "nbformat": 4,
 "nbformat_minor": 2
}
